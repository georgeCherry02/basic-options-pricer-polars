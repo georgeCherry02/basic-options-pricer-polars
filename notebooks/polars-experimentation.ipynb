{
 "cells": [
  {
   "cell_type": "code",
   "execution_count": 6,
   "id": "e3350a88-198e-4ef3-bd00-d8898594412e",
   "metadata": {},
   "outputs": [],
   "source": [
    "from datetime import datetime\n",
    "from dateutil.relativedelta import relativedelta\n",
    "\n",
    "import polars as pl\n",
    "from pricer_polars.bindings import calculate_black_scholes"
   ]
  },
  {
   "cell_type": "code",
   "execution_count": 7,
   "id": "44ce20b3-f5f5-4e18-8735-cfa27610f823",
   "metadata": {},
   "outputs": [],
   "source": [
    "strike = 45.0\n",
    "volatility = 0.4\n",
    "underlying = 40.0\n",
    "risk_free_rate = 0.04\n",
    "expiry = datetime.now() + relativedelta(days=121)"
   ]
  },
  {
   "cell_type": "code",
   "execution_count": 11,
   "id": "308a44d4-690a-454e-8822-66ccb20c1f9a",
   "metadata": {},
   "outputs": [
    {
     "data": {
      "text/html": [
       "<div><style>\n",
       ".dataframe > thead > tr,\n",
       ".dataframe > tbody > tr {\n",
       "  text-align: right;\n",
       "  white-space: pre-wrap;\n",
       "}\n",
       "</style>\n",
       "<small>shape: (1, 6)</small><table border=\"1\" class=\"dataframe\"><thead><tr><th>strike</th><th>volatility</th><th>underlying</th><th>risk_free_rate</th><th>expiry</th><th>black_scholes</th></tr><tr><td>f64</td><td>f64</td><td>f64</td><td>f64</td><td>datetime[μs]</td><td>f64</td></tr></thead><tbody><tr><td>45.0</td><td>0.4</td><td>40.0</td><td>0.04</td><td>2024-12-20 17:59:14.455933</td><td>2.055681</td></tr></tbody></table></div>"
      ],
      "text/plain": [
       "shape: (1, 6)\n",
       "┌────────┬────────────┬────────────┬────────────────┬────────────────────────────┬───────────────┐\n",
       "│ strike ┆ volatility ┆ underlying ┆ risk_free_rate ┆ expiry                     ┆ black_scholes │\n",
       "│ ---    ┆ ---        ┆ ---        ┆ ---            ┆ ---                        ┆ ---           │\n",
       "│ f64    ┆ f64        ┆ f64        ┆ f64            ┆ datetime[μs]               ┆ f64           │\n",
       "╞════════╪════════════╪════════════╪════════════════╪════════════════════════════╪═══════════════╡\n",
       "│ 45.0   ┆ 0.4        ┆ 40.0       ┆ 0.04           ┆ 2024-12-20 17:59:14.455933 ┆ 2.055681      │\n",
       "└────────┴────────────┴────────────┴────────────────┴────────────────────────────┴───────────────┘"
      ]
     },
     "execution_count": 11,
     "metadata": {},
     "output_type": "execute_result"
    }
   ],
   "source": [
    "# Check all's working as expected\n",
    "df = pl.DataFrame({\n",
    "    \"strike\": [strike],\n",
    "    \"volatility\": [volatility],\n",
    "    \"underlying\": [underlying],\n",
    "    \"risk_free_rate\": [risk_free_rate],\n",
    "    \"expiry\": [expiry],\n",
    "})\n",
    "\n",
    "out = df.with_columns(\n",
    "    black_scholes = calculate_black_scholes(\"strike\", \"volatility\", \"underlying\", \"risk_free_rate\", \"expiry\")\n",
    ")\n",
    "out"
   ]
  },
  {
   "cell_type": "code",
   "execution_count": null,
   "id": "682933e7-10cf-4d8e-8db2-3d7c52a8abfb",
   "metadata": {},
   "outputs": [],
   "source": []
  }
 ],
 "metadata": {
  "kernelspec": {
   "display_name": "Python 3 (ipykernel)",
   "language": "python",
   "name": "python3"
  },
  "language_info": {
   "codemirror_mode": {
    "name": "ipython",
    "version": 3
   },
   "file_extension": ".py",
   "mimetype": "text/x-python",
   "name": "python",
   "nbconvert_exporter": "python",
   "pygments_lexer": "ipython3",
   "version": "3.10.12"
  }
 },
 "nbformat": 4,
 "nbformat_minor": 5
}
